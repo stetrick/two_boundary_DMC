{
 "cells": [
  {
   "cell_type": "code",
   "execution_count": 1,
   "metadata": {
    "scrolled": false
   },
   "outputs": [
    {
     "name": "stdout",
     "output_type": "stream",
     "text": [
      " Volume in drive C has no label.\n",
      " Volume Serial Number is 1271-A82D\n",
      "\n",
      " Directory of C:\\Users\\FREEDMAN_LAB\\Documents\\StephT\\two_boundary_DMC\\MT_analysis\n",
      "\n",
      "01/29/2020  12:17 PM    <DIR>          .\n",
      "01/29/2020  12:17 PM    <DIR>          ..\n",
      "01/29/2020  12:13 PM    <DIR>          .ipynb_checkpoints\n",
      "01/29/2020  12:17 PM            16,698 category_decoder.ipynb\n",
      "01/29/2020  11:51 AM        85,324,444 neville_20191004_1_merged_w_ratings.mat\n",
      "01/29/2020  11:53 AM        85,313,586 neville_20191007_2_merged_w_ratings.mat\n",
      "01/29/2020  11:53 AM        77,382,867 neville_20191015_2_merged_w_ratings.mat\n",
      "01/29/2020  11:53 AM        63,517,755 neville_20191018_1_merged_w_ratings.mat\n",
      "01/29/2020  11:53 AM        77,631,602 neville_20191028_1_merged_w_ratings.mat\n",
      "01/29/2020  11:53 AM        60,659,697 neville_20191030_1_merged_w_ratings.mat\n",
      "01/29/2020  11:53 AM        90,833,295 neville_20191031_1_merged_w_ratings.mat\n",
      "01/29/2020  11:53 AM        65,346,895 neville_20191101_1_merged_w_ratings.mat\n",
      "01/29/2020  11:53 AM        63,044,768 neville_20191101_2_merged_w_ratings.mat\n",
      "01/29/2020  11:57 AM        28,734,410 PSTH_barplot_script.ipynb\n",
      "01/29/2020  11:57 AM            10,011 PSTH_script.ipynb\n",
      "              12 File(s)    697,816,028 bytes\n",
      "               3 Dir(s)  422,668,972,032 bytes free\n"
     ]
    }
   ],
   "source": [
    "ls"
   ]
  },
  {
   "cell_type": "code",
   "execution_count": 2,
   "metadata": {
    "ExecuteTime": {
     "end_time": "2019-11-25T19:42:16.742076Z",
     "start_time": "2019-11-25T19:42:16.738431Z"
    }
   },
   "outputs": [],
   "source": [
    "import os\n",
    "import glob\n",
    "import scipy.io as sio\n",
    "import numpy as np\n",
    "import scipy as sci\n",
    "import matplotlib.pyplot as plt\n",
    "from scipy.ndimage import gaussian_filter1d\n",
    "np.set_printoptions(threshold=4000, precision=4) \n",
    "\n",
    "#make test and train sets\n",
    "from sklearn.model_selection import train_test_split\n",
    "from sklearn.svm import SVC # \"Support Vector Classifier\" "
   ]
  },
  {
   "cell_type": "markdown",
   "metadata": {},
   "source": [
    "## Decoder"
   ]
  },
  {
   "cell_type": "code",
   "execution_count": 11,
   "metadata": {
    "ExecuteTime": {
     "end_time": "2019-11-25T19:43:17.198719Z",
     "start_time": "2019-11-25T19:43:17.175074Z"
    }
   },
   "outputs": [],
   "source": [
    "data_all = []\n",
    "\n",
    "fns = glob.glob(\"neville_*_merged_w_ratings.mat\")\n",
    "for fn in fns:\n",
    "\n",
    "    # Load the file specified by fn\n",
    "    data        = sio.loadmat(fn)['data']\n",
    "\n",
    "    # Split up neuronal/behavioral\n",
    "    bhv   = data['BHV']\n",
    "    neuro = data['NEURO']\n",
    "\n",
    "    # Extract relevant behavioral variables for all the trials\n",
    "    error     = bhv[0][0][0][0][\"TrialError\"]\n",
    "    trial_num = len(bhv[0][0][0][0][\"TrialNumber\"][0])\n",
    "    condition = bhv[0][0][0][0][\"ConditionNumber\"][0]\n",
    "\n",
    "    # Do the same for neural data\n",
    "    num_neurons = len(neuro[0][0][0][0][\"Neuron\"][0][0])//2\n",
    "    spikes_all  = neuro[0][0][0][0][\"Neuron\"][0][0]\n",
    "    code_time   = neuro[0][0][0][0]['CodeTimes']\n",
    "    code_num    = neuro[0][0][0][0]['CodeNumbers']\n",
    "    code_num    = np.array([i[0] for i in code_num]) \n",
    "\n",
    "    dirs         = [247.5, 225, 202.5, 67.5, 45, 22.5, 157.5, 135, 112.5, 337.5, 315, 292.5]\n",
    "    STRT_TRIAL   = 9\n",
    "    STIM_ON      = 23\n",
    "\n",
    "    strt_trial_indx = np.where(code_num == STRT_TRIAL)[0]\n",
    "    strt_trial_time = code_time[strt_trial_indx]\n",
    "    spk_window      = np.arange(-500, 3000) \n",
    "\n",
    "\n",
    "    # Correct trial IDs\n",
    "    correct_inds   = set(np.where(error == 0)[0])\n",
    "    condition_inds = set(np.where(condition != 73)[0])\n",
    "    trial_inds     = correct_inds.intersection(condition_inds)\n",
    "\n",
    "    #set up bins for all neuronal data\n",
    "\n",
    "\n",
    "    # Loop through neurons\n",
    "    for i_neuron in range(num_neurons):\n",
    "    # Set up storage for spikes by direction\n",
    "        spikes_binned = [[] for i in range(len(dirs))]\n",
    "    # Extract neural data for this neuron across trials\n",
    "        rating        = neuro[0][0][0][0][-1][i_neuron][1][0][0]\n",
    "        neuron_spikes = spikes_all[i_neuron].flatten() \n",
    "\n",
    "        if rating >= 3:\n",
    "        # Loop through trials\n",
    "            for i_trial in trial_inds:\n",
    "                if code_num[strt_trial_indx[i_trial]+1] != 14:\n",
    "                    end_indx = min(i_trial + 1, trial_num) \n",
    "            # Compute when the stimulus for this trial came on\n",
    "                    stim_on_indx = np.where(code_num[strt_trial_indx[i_trial]:strt_trial_indx[end_indx]] == STIM_ON)[0]\n",
    "                    stim_on_indx = stim_on_indx + strt_trial_indx[i_trial]\n",
    "            # Find spike times for this trial based on stim. on index, compute histogram\n",
    "                    stim_on_time = code_time[stim_on_indx].flatten()[0]\n",
    "                    spks         = neuron_spikes[(neuron_spikes - stim_on_time > -500) & \n",
    "                                                 (neuron_spikes - stim_on_time < 3000)] - stim_on_time       \n",
    "                    hist_spks    = np.histogram(spks, spk_window)[0]\n",
    "            #smooth hist\n",
    "                    smoothed = np.convolve(hist_spks,np.ones(100), mode = 'valid')\n",
    "                    smoothed = smoothed.astype(int)\n",
    "            # Store the smoothed hist for this trial\n",
    "                    dir_num = int(np.ceil(condition[i_trial]/6)) - 1\n",
    "                    spikes_binned[dir_num].append(smoothed)\n",
    "                    spikes_binned = np.array(spikes_binned)\n",
    "     #worried that this only stores neurons from one data set        \n",
    "            data_all.append(spikes_binned)\n",
    "\n",
    "        "
   ]
  },
  {
   "cell_type": "code",
   "execution_count": 10,
   "metadata": {},
   "outputs": [],
   "source": [
    "qdrt_1 = [np.vstack(d[3:6]) for d in data_all]\n",
    "qdrt_2 = [np.vstack(d[6:9]) for d in data_all]\n",
    "qdrt_3 = [np.vstack(d[0:3]) for d in data_all]\n",
    "qdrt_4 = [np.vstack(d[9:12]) for d in data_all]\n"
   ]
  },
  {
   "cell_type": "code",
   "execution_count": 6,
   "metadata": {},
   "outputs": [],
   "source": [
    "#params\n",
    "n_trials = 40\n",
    "num_good_neurons = len(data_all)\n",
    "time_pts = np.arange(0, (len(spk_window)-100),10)\n",
    "iterations = 100\n",
    "iterative_accuracy = np.zeros((iterations, len(time_pts)))\n",
    "\n",
    "#set category labels\n",
    "y = np.zeros((n_trials*2,))\n",
    "for i in range(n_trials*2):\n",
    "    if i <=40:\n",
    "        y[i] = 1\n",
    "    if i > 40:\n",
    "        y[i] = 2\n",
    "    y = y.astype(int)\n",
    "\n",
    "for iteration in range(iterations):\n",
    "\n",
    "    #iterate thru trial timepoints\n",
    "    for indx, time_pt in enumerate(time_pts):\n",
    "\n",
    "        #rndm_indices_qdrt_all = np.zeros((8, num_good_neurons, n_trials))\n",
    "        rndm_indices_qdrt1 = np.zeros((num_good_neurons, n_trials))\n",
    "        rndm_indices_qdrt2 = np.zeros((num_good_neurons, n_trials))\n",
    "        rndm_indices_qdrt3 = np.zeros((num_good_neurons, n_trials))\n",
    "        rndm_indices_qdrt4 = np.zeros((num_good_neurons, n_trials))\n",
    "\n",
    "        selected_timept_qdrt1 = np.zeros((num_good_neurons, n_trials))\n",
    "        selected_timept_qdrt2 = np.zeros((num_good_neurons, n_trials))\n",
    "        selected_timept_qdrt3 = np.zeros((num_good_neurons, n_trials))\n",
    "        selected_timept_qdrt4 = np.zeros((num_good_neurons, n_trials))\n",
    "\n",
    "\n",
    "\n",
    "\n",
    "        #Get random trials\n",
    "        for i_neuron in range(len(data_all)):\n",
    "            rng1 = (len(qdrt_1[i_neuron]))\n",
    "            rndm_indices_qdrt1[i_neuron] = (np.random.choice(rng1, size = n_trials, replace = False))\n",
    "            rndm_indices_qdrt1 = rndm_indices_qdrt1.astype(np.int32)\n",
    "\n",
    "            rng2 = (len(qdrt_2[i_neuron]))\n",
    "            rndm_indices_qdrt2[i_neuron] = (np.random.choice(rng2, size = n_trials, replace = False))\n",
    "            rndm_indices_qdrt2 = rndm_indices_qdrt2.astype(np.int32)\n",
    "\n",
    "            rng3 = (len(qdrt_3[i_neuron]))\n",
    "            rndm_indices_qdrt3[i_neuron] = (np.random.choice(rng3, size = n_trials, replace = False))\n",
    "            rndm_indices_qdrt3 = rndm_indices_qdrt3.astype(np.int32)\n",
    "            rng4 = (len(qdrt_4[i_neuron]))\n",
    "            rndm_indices_qdrt4[i_neuron] = (np.random.choice(rng4, size = n_trials, replace = False))\n",
    "            rndm_indices_qdrt4 = rndm_indices_qdrt4.astype(np.int32)\n",
    "            #get timept value\n",
    "            for  i_trial in range(len(rndm_indices_qdrt1[i_neuron])):\n",
    "                value1 = rndm_indices_qdrt1[i_neuron][i_trial]\n",
    "                selected_timept_qdrt1[i_neuron][i_trial] = qdrt_1[i_neuron][value1][time_pt]\n",
    "            selected_timept_qdrt1 = selected_timept_qdrt1.astype(np.int32)\n",
    "            for  i_trial in range(len(rndm_indices_qdrt2[i_neuron])):\n",
    "                value2 = rndm_indices_qdrt2[i_neuron][i_trial]\n",
    "                selected_timept_qdrt2[i_neuron][i_trial] = qdrt_2[i_neuron][value2][time_pt]\n",
    "            selected_timept_qdrt2 = selected_timept_qdrt2.astype(np.int32)\n",
    "            for  i_trial in range(len(rndm_indices_qdrt3[i_neuron])):\n",
    "                value3 = rndm_indices_qdrt3[i_neuron][i_trial]\n",
    "                selected_timept_qdrt3[i_neuron][i_trial] = qdrt_3[i_neuron][value3][time_pt]\n",
    "            selected_timept_qdrt3 = selected_timept_qdrt3.astype(np.int32)\n",
    "            for  i_trial in range(len(rndm_indices_qdrt4[i_neuron])):\n",
    "                value4 = rndm_indices_qdrt4[i_neuron][i_trial]\n",
    "                selected_timept_qdrt4[i_neuron][i_trial] = qdrt_4[i_neuron][value4][time_pt]\n",
    "            selected_timept_qdrt4 = selected_timept_qdrt4.astype(np.int32)\n",
    "\n",
    "    #set up training and test sets\n",
    "        train_quadrants = [np.vstack((selected_timept_qdrt1.T, selected_timept_qdrt2.T)), \n",
    "                          np.vstack((selected_timept_qdrt2.T, selected_timept_qdrt3.T)),\n",
    "                          np.vstack((selected_timept_qdrt3.T, selected_timept_qdrt4.T)),\n",
    "                          np.vstack((selected_timept_qdrt4.T, selected_timept_qdrt1.T))]\n",
    "\n",
    "        test_quadrants = [np.vstack((selected_timept_qdrt3.T, selected_timept_qdrt4.T)), \n",
    "                          np.vstack((selected_timept_qdrt4.T, selected_timept_qdrt1.T)),\n",
    "                          np.vstack((selected_timept_qdrt1.T, selected_timept_qdrt2.T)),\n",
    "                          np.vstack((selected_timept_qdrt2.T, selected_timept_qdrt3.T))]\n",
    "\n",
    "        #choose test/train sets randomly \n",
    "        qdrts = np.arange(0,4)\n",
    "        rand_qdrts = np.random.choice(qdrts, size = 1)\n",
    "\n",
    "\n",
    "    #run decoder\n",
    "        x_train = []\n",
    "        x_test = []\n",
    "        for i in rand_qdrts:\n",
    "            x_train = train_quadrants[i]\n",
    "            x_test = test_quadrants[i]\n",
    "            clf = SVC(kernel='linear') # intialize classifier\n",
    "            clf.fit(x_train,y)\n",
    "            pred = clf.predict(x_test)\n",
    "\n",
    "        iterative_accuracy[iteration][indx] = sum(pred==y)/len(y)*100\n",
    "\n",
    "\n",
    "\n"
   ]
  },
  {
   "cell_type": "code",
   "execution_count": 7,
   "metadata": {},
   "outputs": [
    {
     "data": {
      "text/plain": [
       "(100, 340)"
      ]
     },
     "execution_count": 7,
     "metadata": {},
     "output_type": "execute_result"
    }
   ],
   "source": [
    "iterative_accuracy.shape"
   ]
  },
  {
   "cell_type": "code",
   "execution_count": 8,
   "metadata": {},
   "outputs": [],
   "source": [
    "#save output array as CSV\n",
    "#sio.savemat(\"MT_decoder.mat\", {'iterative_accuracy': iterative_accuracy} )"
   ]
  },
  {
   "cell_type": "code",
   "execution_count": 9,
   "metadata": {
    "scrolled": true
   },
   "outputs": [
    {
     "data": {
      "text/plain": [
       "[Text(0, 0.5, 'Accuracy'),\n",
       " Text(0.5, 0, 'Time (ms)'),\n",
       " Text(0.5, 1.0, 'MT Category decoder')]"
      ]
     },
     "execution_count": 9,
     "metadata": {},
     "output_type": "execute_result"
    },
    {
     "data": {
      "image/png": "[encoded data removed]",
      "text/plain": [
       "<Figure size 720x360 with 1 Axes>"
      ]
     },
     "metadata": {
      "needs_background": "light"
     },
     "output_type": "display_data"
    }
   ],
   "source": [
    "#Decoder accuracy plot\n",
    "mean_accuracy = np.mean(iterative_accuracy, axis = 0)\n",
    "sd_accuracy = np.std(iterative_accuracy, axis = 0)\n",
    "x = np.arange(-450,2950,10)\n",
    "fig, ax = plt.subplots(1, figsize=(10, 5))\n",
    "ax.plot(x, mean_accuracy)\n",
    "\n",
    "\n",
    "#Std shading \n",
    "ax.fill_between(x, mean_accuracy-sd_accuracy, mean_accuracy+sd_accuracy, alpha = 0.5)\n",
    "\n",
    "#trial epoch lines \n",
    "SAMPLE = 550\n",
    "DELAY1 = 1200 + SAMPLE\n",
    "TEST1  = 550 + DELAY1\n",
    "DELAY2 = 175 + TEST1\n",
    "TEST2  = 550 + DELAY2    \n",
    "trial_epochs = [SAMPLE, DELAY1, TEST1, DELAY2, TEST2]\n",
    "ax.plot([0, 0], [0, 100], '-k', lw = 1.3, color = 'tomato', alpha = .7)\n",
    "for epoch in trial_epochs:\n",
    "    ax.plot([epoch, epoch], [0, 100], '-k', lw = 1.3, color = 'tomato', alpha = .7)\n",
    "    #ax.set.xticks()\n",
    "\n",
    "#50% line \n",
    "ax.plot([-450, 2950], [50, 50], '--k', color = 'darkslategrey')\n",
    "\n",
    "#labels, etc\n",
    "ax.set(xlabel='Time (ms)', \n",
    "       ylabel='Accuracy', \n",
    "       title='MT Category decoder')\n"
   ]
  },
  {
   "cell_type": "code",
   "execution_count": null,
   "metadata": {},
   "outputs": [],
   "source": []
  }
 ],
 "metadata": {
  "kernelspec": {
   "display_name": "Python 3",
   "language": "python",
   "name": "python3"
  },
  "language_info": {
   "codemirror_mode": {
    "name": "ipython",
    "version": 3
   },
   "file_extension": ".py",
   "mimetype": "text/x-python",
   "name": "python",
   "nbconvert_exporter": "python",
   "pygments_lexer": "ipython3",
   "version": "3.5.2"
  },
  "latex_envs": {
   "LaTeX_envs_menu_present": true,
   "autoclose": false,
   "autocomplete": true,
   "bibliofile": "biblio.bib",
   "cite_by": "apalike",
   "current_citInitial": 1,
   "eqLabelWithNumbers": true,
   "eqNumInitial": 1,
   "hotkeys": {
    "equation": "Ctrl-E",
    "itemize": "Ctrl-I"
   },
   "labels_anchors": false,
   "latex_user_defs": false,
   "report_style_numbering": false,
   "user_envs_cfg": false
  }
 },
 "nbformat": 4,
 "nbformat_minor": 2
}
