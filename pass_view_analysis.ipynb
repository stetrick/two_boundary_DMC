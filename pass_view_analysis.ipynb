{
 "cells": [
  {
   "cell_type": "code",
   "execution_count": 1,
   "metadata": {
    "ExecuteTime": {
     "end_time": "2020-02-07T15:14:38.832971Z",
     "start_time": "2020-02-07T15:14:38.795993Z"
    }
   },
   "outputs": [
    {
     "name": "stdout",
     "output_type": "stream",
     "text": [
      " Volume in drive C has no label.\n",
      " Volume Serial Number is 1271-A82D\n",
      "\n",
      " Directory of C:\\Users\\FREEDMAN_LAB\\Documents\\StephT\\two_boundary_DMC\\MT_analysis\n",
      "\n",
      "02/06/2020  05:12 PM    <DIR>          .\n",
      "02/06/2020  05:12 PM    <DIR>          ..\n",
      "02/06/2020  05:12 PM    <DIR>          .ipynb_checkpoints\n",
      "02/04/2020  02:25 PM    <DIR>          bad_neurons\n",
      "01/31/2020  05:03 PM            59,301 category_decoder.ipynb\n",
      "02/06/2020  04:23 PM            58,292 dir_decoder.ipynb\n",
      "01/31/2020  02:28 PM            63,765 dir_decoder-Copy1.ipynb\n",
      "02/04/2020  04:50 PM            52,938 dir_decoder-Copy2.ipynb\n",
      "02/04/2020  02:25 PM    <DIR>          good_neurons\n",
      "01/29/2020  11:51 AM        85,324,444 neville_20191004_1_merged_w_ratings.mat\n",
      "01/29/2020  11:53 AM        85,313,586 neville_20191007_2_merged_w_ratings.mat\n",
      "01/29/2020  11:53 AM        77,382,867 neville_20191015_2_merged_w_ratings.mat\n",
      "01/29/2020  11:53 AM        63,517,755 neville_20191018_1_merged_w_ratings.mat\n",
      "01/29/2020  11:53 AM        77,631,602 neville_20191028_1_merged_w_ratings.mat\n",
      "01/29/2020  11:53 AM        60,659,697 neville_20191030_1_merged_w_ratings.mat\n",
      "01/29/2020  11:53 AM        90,833,295 neville_20191031_1_merged_w_ratings.mat\n",
      "01/29/2020  11:53 AM        65,346,895 neville_20191101_1_merged_w_ratings.mat\n",
      "01/29/2020  11:53 AM        63,044,768 neville_20191101_2_merged_w_ratings.mat\n",
      "02/06/2020  05:12 PM            10,025 pass_view_analysis.ipynb\n",
      "01/29/2020  02:25 PM        28,734,410 PSTH_barplot_script.ipynb\n",
      "02/04/2020  02:26 PM        22,276,201 PSTH_mattrosen.ipynb\n",
      "02/06/2020  05:09 PM            10,025 Untitled.ipynb\n",
      "              17 File(s)    720,319,866 bytes\n",
      "               5 Dir(s)  418,948,685,824 bytes free\n"
     ]
    }
   ],
   "source": [
    "ls\n"
   ]
  },
  {
   "cell_type": "code",
   "execution_count": 2,
   "metadata": {
    "ExecuteTime": {
     "end_time": "2020-02-07T15:14:39.761517Z",
     "start_time": "2020-02-07T15:14:38.838967Z"
    }
   },
   "outputs": [],
   "source": [
    "import os\n",
    "import glob\n",
    "import scipy.io as sio\n",
    "import numpy as np\n",
    "import scipy as sci\n",
    "import matplotlib.pyplot as plt\n",
    "from scipy.ndimage import gaussian_filter1d"
   ]
  },
  {
   "cell_type": "code",
   "execution_count": 3,
   "metadata": {
    "ExecuteTime": {
     "end_time": "2020-02-07T15:14:41.404609Z",
     "start_time": "2020-02-07T15:14:39.765515Z"
    }
   },
   "outputs": [],
   "source": [
    "data = sio.loadmat('neville_20191004_1_merged_w_ratings.mat')['data']\n",
    "\n",
    "bhv   = data['BHV']\n",
    "neuro = data['NEURO']\n",
    "\n",
    "# Extract relevant behavioral variables for all the trials\n",
    "error     = bhv[0][0][0][0][\"TrialError\"]\n",
    "trial_num = len(bhv[0][0][0][0][\"TrialNumber\"][0])\n",
    "condition = bhv[0][0][0][0][\"ConditionNumber\"][0]\n",
    "\n",
    "\n",
    "# Do the same for neural data\n",
    "num_neurons = len(neuro[0][0][0][0][\"Neuron\"][0][0])//2\n",
    "spikes_all  = neuro[0][0][0][0][\"Neuron\"][0][0]\n",
    "code_time   = neuro[0][0][0][0]['CodeTimes']\n",
    "code_num    = neuro[0][0][0][0]['CodeNumbers']\n",
    "code_num    = np.array([i[0] for i in code_num]) \n"
   ]
  },
  {
   "cell_type": "code",
   "execution_count": 4,
   "metadata": {
    "ExecuteTime": {
     "end_time": "2020-02-07T15:14:41.418605Z",
     "start_time": "2020-02-07T15:14:41.410609Z"
    }
   },
   "outputs": [],
   "source": [
    "pass_view_dirs_info =  bhv[0][0][0][0][\"UserVars\"]"
   ]
  },
  {
   "cell_type": "code",
   "execution_count": 19,
   "metadata": {
    "ExecuteTime": {
     "end_time": "2020-02-07T15:28:09.385513Z",
     "start_time": "2020-02-07T15:28:09.359527Z"
    },
    "scrolled": false
   },
   "outputs": [
    {
     "ename": "IndexError",
     "evalue": "list index out of range",
     "output_type": "error",
     "traceback": [
      "\u001b[1;31m---------------------------------------------------------------------------\u001b[0m",
      "\u001b[1;31mIndexError\u001b[0m                                Traceback (most recent call last)",
      "\u001b[1;32m<ipython-input-19-cbdeec9c0281>\u001b[0m in \u001b[0;36m<module>\u001b[1;34m\u001b[0m\n\u001b[0;32m      6\u001b[0m             \u001b[1;32mif\u001b[0m \u001b[0mlen\u001b[0m\u001b[1;33m(\u001b[0m\u001b[0mbhv\u001b[0m\u001b[1;33m[\u001b[0m\u001b[1;36m0\u001b[0m\u001b[1;33m]\u001b[0m\u001b[1;33m[\u001b[0m\u001b[1;36m0\u001b[0m\u001b[1;33m]\u001b[0m\u001b[1;33m[\u001b[0m\u001b[1;36m0\u001b[0m\u001b[1;33m]\u001b[0m\u001b[1;33m[\u001b[0m\u001b[1;36m0\u001b[0m\u001b[1;33m]\u001b[0m\u001b[1;33m[\u001b[0m\u001b[1;34m\"UserVars\"\u001b[0m\u001b[1;33m]\u001b[0m\u001b[1;33m[\u001b[0m\u001b[1;36m0\u001b[0m\u001b[1;33m]\u001b[0m\u001b[1;33m[\u001b[0m\u001b[0mi_trial\u001b[0m\u001b[1;33m]\u001b[0m\u001b[1;33m[\u001b[0m\u001b[0mi_im\u001b[0m\u001b[1;33m]\u001b[0m\u001b[1;33m)\u001b[0m\u001b[1;33m>\u001b[0m\u001b[1;36m0\u001b[0m\u001b[1;33m:\u001b[0m\u001b[1;33m\u001b[0m\u001b[0m\n\u001b[0;32m      7\u001b[0m                 \u001b[1;32mif\u001b[0m \u001b[0mbhv\u001b[0m\u001b[1;33m[\u001b[0m\u001b[1;36m0\u001b[0m\u001b[1;33m]\u001b[0m\u001b[1;33m[\u001b[0m\u001b[1;36m0\u001b[0m\u001b[1;33m]\u001b[0m\u001b[1;33m[\u001b[0m\u001b[1;36m0\u001b[0m\u001b[1;33m]\u001b[0m\u001b[1;33m[\u001b[0m\u001b[1;36m0\u001b[0m\u001b[1;33m]\u001b[0m\u001b[1;33m[\u001b[0m\u001b[1;34m\"UserVars\"\u001b[0m\u001b[1;33m]\u001b[0m\u001b[1;33m[\u001b[0m\u001b[1;36m0\u001b[0m\u001b[1;33m]\u001b[0m\u001b[1;33m[\u001b[0m\u001b[0mi_trial\u001b[0m\u001b[1;33m]\u001b[0m\u001b[1;33m[\u001b[0m\u001b[0mi_im\u001b[0m\u001b[1;33m]\u001b[0m\u001b[1;33m[\u001b[0m\u001b[1;36m0\u001b[0m\u001b[1;33m]\u001b[0m\u001b[1;33m[\u001b[0m\u001b[1;36m76\u001b[0m\u001b[1;33m:\u001b[0m\u001b[1;36m78\u001b[0m\u001b[1;33m]\u001b[0m\u001b[1;33m!=\u001b[0m \u001b[1;34m''\u001b[0m\u001b[1;33m:\u001b[0m\u001b[1;33m\u001b[0m\u001b[0m\n\u001b[1;32m----> 8\u001b[1;33m                     \u001b[0mpass_view_dirs\u001b[0m\u001b[1;33m[\u001b[0m\u001b[0mi_trial\u001b[0m\u001b[1;33m]\u001b[0m\u001b[1;33m.\u001b[0m\u001b[0mappend\u001b[0m\u001b[1;33m(\u001b[0m\u001b[0mint\u001b[0m\u001b[1;33m(\u001b[0m\u001b[0mbhv\u001b[0m\u001b[1;33m[\u001b[0m\u001b[1;36m0\u001b[0m\u001b[1;33m]\u001b[0m\u001b[1;33m[\u001b[0m\u001b[1;36m0\u001b[0m\u001b[1;33m]\u001b[0m\u001b[1;33m[\u001b[0m\u001b[1;36m0\u001b[0m\u001b[1;33m]\u001b[0m\u001b[1;33m[\u001b[0m\u001b[1;36m0\u001b[0m\u001b[1;33m]\u001b[0m\u001b[1;33m[\u001b[0m\u001b[1;34m\"UserVars\"\u001b[0m\u001b[1;33m]\u001b[0m\u001b[1;33m[\u001b[0m\u001b[1;36m0\u001b[0m\u001b[1;33m]\u001b[0m\u001b[1;33m[\u001b[0m\u001b[0mi_trial\u001b[0m\u001b[1;33m]\u001b[0m\u001b[1;33m[\u001b[0m\u001b[0mi_im\u001b[0m\u001b[1;33m]\u001b[0m\u001b[1;33m[\u001b[0m\u001b[1;36m0\u001b[0m\u001b[1;33m]\u001b[0m\u001b[1;33m[\u001b[0m\u001b[1;36m76\u001b[0m\u001b[1;33m:\u001b[0m\u001b[1;36m78\u001b[0m\u001b[1;33m]\u001b[0m\u001b[1;33m)\u001b[0m \u001b[1;33m-\u001b[0m \u001b[1;36m1\u001b[0m\u001b[1;33m)\u001b[0m\u001b[1;33m\u001b[0m\u001b[0m\n\u001b[0m",
      "\u001b[1;31mIndexError\u001b[0m: list index out of range"
     ]
    }
   ],
   "source": [
    "\n",
    "pass_view_dirs = [[]]*np.count_nonzero(condition ==73)\n",
    "for i_trial in range(trial_num):\n",
    "    if condition[i_trial] ==73:\n",
    "        for i_im in range(1,4):\n",
    "            if len(bhv[0][0][0][0][\"UserVars\"][0][i_trial][i_im])>0:\n",
    "                if bhv[0][0][0][0][\"UserVars\"][0][i_trial][i_im][0][76:78]!= '':\n",
    "                    pass_view_dirs[i_trial].append(int(bhv[0][0][0][0][\"UserVars\"][0][i_trial][i_im][0][76:78]) - 1)"
   ]
  },
  {
   "cell_type": "code",
   "execution_count": 26,
   "metadata": {
    "ExecuteTime": {
     "end_time": "2020-02-07T15:29:34.240192Z",
     "start_time": "2020-02-07T15:29:34.231177Z"
    }
   },
   "outputs": [
    {
     "data": {
      "text/plain": [
       "array([150, 151, 152, 153, 154, 155, 156, 157, 158, 159, 160, 161, 162,\n",
       "       163, 164, 165, 166, 167, 168, 338, 339, 340, 341, 342, 343, 344,\n",
       "       345, 346, 347, 348, 349, 350, 351, 352, 353, 354, 355, 356, 357,\n",
       "       358, 359, 360, 361, 362, 363, 364, 412, 413, 414, 415, 416, 417,\n",
       "       418, 419, 420, 421, 422, 423, 424, 425, 426, 427, 428, 429, 430,\n",
       "       431, 432, 433, 434, 435, 436, 437, 438, 439, 440, 441, 442, 443,\n",
       "       444, 445, 446, 447, 448, 449, 450, 451, 452, 453, 454, 455, 456,\n",
       "       457, 458, 459, 460, 461, 462, 463, 464, 465, 466, 467, 468, 469,\n",
       "       470, 471, 472, 473, 474, 475, 476, 477, 478, 479, 480, 481, 482,\n",
       "       483, 484, 485, 486, 487, 488, 489, 490, 491, 492, 493, 494, 495,\n",
       "       496, 552, 553, 554, 555, 556, 557, 558, 559, 560, 561, 562, 563,\n",
       "       564, 612, 613, 614, 615, 616, 617, 618, 619, 620, 621, 622, 623,\n",
       "       624, 625, 626, 627, 628, 629, 630, 631, 632, 633, 634, 635, 636,\n",
       "       637, 638, 639, 640, 641, 715, 716, 717, 718, 719, 720, 721, 722,\n",
       "       723, 724, 725, 726, 727, 728, 729, 730, 731, 732, 733, 734, 735,\n",
       "       736, 737, 738, 739, 740, 741, 742, 743, 744, 847, 848, 849, 850,\n",
       "       851, 852, 853, 854, 855, 856, 857, 858, 859, 860, 861, 862, 863,\n",
       "       864, 865, 866, 867, 868, 869, 870, 871, 872, 873, 874, 875, 876,\n",
       "       877, 878, 879, 880, 881, 882, 883, 884, 885, 886, 887, 888, 889,\n",
       "       890, 891, 892, 893, 894, 895, 896, 897, 898, 899, 900, 901, 902,\n",
       "       903, 904, 905, 906, 907, 908, 909, 910, 911, 912, 913, 914, 915,\n",
       "       916, 917, 918, 919, 920, 921, 922, 923, 924, 925, 926, 927, 928,\n",
       "       929, 930, 931, 932, 933, 934, 935, 936, 937, 938, 939, 940, 941,\n",
       "       942, 943, 944, 945, 946, 947, 948, 949, 950, 951, 952, 953, 954,\n",
       "       955, 956, 957, 958, 959, 960, 961, 962, 963, 964], dtype=int64)"
      ]
     },
     "execution_count": 26,
     "metadata": {},
     "output_type": "execute_result"
    }
   ],
   "source": [
    "pv_trials = np.where (condition ==73)[0]\n",
    "pv_trials"
   ]
  },
  {
   "cell_type": "code",
   "execution_count": 17,
   "metadata": {
    "ExecuteTime": {
     "end_time": "2020-02-07T15:26:33.109602Z",
     "start_time": "2020-02-07T15:26:33.093614Z"
    }
   },
   "outputs": [
    {
     "ename": "AttributeError",
     "evalue": "module 'numpy' has no attribute 'count'",
     "output_type": "error",
     "traceback": [
      "\u001b[1;31m---------------------------------------------------------------------------\u001b[0m",
      "\u001b[1;31mAttributeError\u001b[0m                            Traceback (most recent call last)",
      "\u001b[1;32m<ipython-input-17-37d01acd9900>\u001b[0m in \u001b[0;36m<module>\u001b[1;34m\u001b[0m\n\u001b[1;32m----> 1\u001b[1;33m \u001b[0mnp\u001b[0m\u001b[1;33m.\u001b[0m\u001b[0mcount\u001b[0m\u001b[1;33m\u001b[0m\u001b[0m\n\u001b[0m",
      "\u001b[1;31mAttributeError\u001b[0m: module 'numpy' has no attribute 'count'"
     ]
    }
   ],
   "source": []
  },
  {
   "cell_type": "code",
   "execution_count": null,
   "metadata": {},
   "outputs": [],
   "source": []
  }
 ],
 "metadata": {
  "kernelspec": {
   "display_name": "Python 3",
   "language": "python",
   "name": "python3"
  },
  "language_info": {
   "codemirror_mode": {
    "name": "ipython",
    "version": 3
   },
   "file_extension": ".py",
   "mimetype": "text/x-python",
   "name": "python",
   "nbconvert_exporter": "python",
   "pygments_lexer": "ipython3",
   "version": "3.5.2"
  }
 },
 "nbformat": 4,
 "nbformat_minor": 2
}
